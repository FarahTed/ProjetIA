{
 "cells": [
  {
   "cell_type": "code",
   "execution_count": 1,
   "metadata": {},
   "outputs": [],
   "source": [
    "import numpy as np \n",
    "import sklearn.svm\n",
    "import pandas as pd\n",
    "import os\n",
    "import matplotlib.pyplot as plt\n",
    "import matplotlib.cm as cm\n",
    "import sklearn\n",
    "plt.ion()"
   ]
  },
  {
   "cell_type": "markdown",
   "metadata": {},
   "source": [
    " Importation de la Base de données"
   ]
  },
  {
   "cell_type": "code",
   "execution_count": 2,
   "metadata": {},
   "outputs": [
    {
     "data": {
      "text/html": [
       "<div>\n",
       "<style scoped>\n",
       "    .dataframe tbody tr th:only-of-type {\n",
       "        vertical-align: middle;\n",
       "    }\n",
       "\n",
       "    .dataframe tbody tr th {\n",
       "        vertical-align: top;\n",
       "    }\n",
       "\n",
       "    .dataframe thead th {\n",
       "        text-align: right;\n",
       "    }\n",
       "</style>\n",
       "<table border=\"1\" class=\"dataframe\">\n",
       "  <thead>\n",
       "    <tr style=\"text-align: right;\">\n",
       "      <th></th>\n",
       "      <th>age</th>\n",
       "      <th>anaemia</th>\n",
       "      <th>creatinine_phosphokinase</th>\n",
       "      <th>diabetes</th>\n",
       "      <th>ejection_fraction</th>\n",
       "      <th>high_blood_pressure</th>\n",
       "      <th>platelets</th>\n",
       "      <th>serum_creatinine</th>\n",
       "      <th>serum_sodium</th>\n",
       "      <th>sex</th>\n",
       "      <th>smoking</th>\n",
       "      <th>time</th>\n",
       "      <th>DEATH_EVENT</th>\n",
       "    </tr>\n",
       "  </thead>\n",
       "  <tbody>\n",
       "    <tr>\n",
       "      <th>0</th>\n",
       "      <td>79.0</td>\n",
       "      <td>1</td>\n",
       "      <td>55</td>\n",
       "      <td>0</td>\n",
       "      <td>50</td>\n",
       "      <td>1</td>\n",
       "      <td>172000.0</td>\n",
       "      <td>1.8</td>\n",
       "      <td>133</td>\n",
       "      <td>1</td>\n",
       "      <td>0</td>\n",
       "      <td>78</td>\n",
       "      <td>0</td>\n",
       "    </tr>\n",
       "    <tr>\n",
       "      <th>1</th>\n",
       "      <td>70.0</td>\n",
       "      <td>1</td>\n",
       "      <td>59</td>\n",
       "      <td>0</td>\n",
       "      <td>60</td>\n",
       "      <td>0</td>\n",
       "      <td>255000.0</td>\n",
       "      <td>1.1</td>\n",
       "      <td>136</td>\n",
       "      <td>0</td>\n",
       "      <td>0</td>\n",
       "      <td>85</td>\n",
       "      <td>0</td>\n",
       "    </tr>\n",
       "    <tr>\n",
       "      <th>2</th>\n",
       "      <td>60.0</td>\n",
       "      <td>0</td>\n",
       "      <td>2261</td>\n",
       "      <td>0</td>\n",
       "      <td>35</td>\n",
       "      <td>1</td>\n",
       "      <td>228000.0</td>\n",
       "      <td>0.9</td>\n",
       "      <td>136</td>\n",
       "      <td>1</td>\n",
       "      <td>0</td>\n",
       "      <td>115</td>\n",
       "      <td>0</td>\n",
       "    </tr>\n",
       "    <tr>\n",
       "      <th>3</th>\n",
       "      <td>55.0</td>\n",
       "      <td>0</td>\n",
       "      <td>47</td>\n",
       "      <td>0</td>\n",
       "      <td>35</td>\n",
       "      <td>1</td>\n",
       "      <td>173000.0</td>\n",
       "      <td>1.1</td>\n",
       "      <td>137</td>\n",
       "      <td>1</td>\n",
       "      <td>0</td>\n",
       "      <td>79</td>\n",
       "      <td>0</td>\n",
       "    </tr>\n",
       "    <tr>\n",
       "      <th>4</th>\n",
       "      <td>43.0</td>\n",
       "      <td>1</td>\n",
       "      <td>358</td>\n",
       "      <td>0</td>\n",
       "      <td>50</td>\n",
       "      <td>0</td>\n",
       "      <td>237000.0</td>\n",
       "      <td>1.3</td>\n",
       "      <td>135</td>\n",
       "      <td>0</td>\n",
       "      <td>0</td>\n",
       "      <td>97</td>\n",
       "      <td>0</td>\n",
       "    </tr>\n",
       "    <tr>\n",
       "      <th>...</th>\n",
       "      <td>...</td>\n",
       "      <td>...</td>\n",
       "      <td>...</td>\n",
       "      <td>...</td>\n",
       "      <td>...</td>\n",
       "      <td>...</td>\n",
       "      <td>...</td>\n",
       "      <td>...</td>\n",
       "      <td>...</td>\n",
       "      <td>...</td>\n",
       "      <td>...</td>\n",
       "      <td>...</td>\n",
       "      <td>...</td>\n",
       "    </tr>\n",
       "    <tr>\n",
       "      <th>294</th>\n",
       "      <td>48.0</td>\n",
       "      <td>1</td>\n",
       "      <td>131</td>\n",
       "      <td>1</td>\n",
       "      <td>30</td>\n",
       "      <td>1</td>\n",
       "      <td>244000.0</td>\n",
       "      <td>1.6</td>\n",
       "      <td>130</td>\n",
       "      <td>0</td>\n",
       "      <td>0</td>\n",
       "      <td>193</td>\n",
       "      <td>1</td>\n",
       "    </tr>\n",
       "    <tr>\n",
       "      <th>295</th>\n",
       "      <td>73.0</td>\n",
       "      <td>0</td>\n",
       "      <td>582</td>\n",
       "      <td>0</td>\n",
       "      <td>35</td>\n",
       "      <td>1</td>\n",
       "      <td>203000.0</td>\n",
       "      <td>1.3</td>\n",
       "      <td>134</td>\n",
       "      <td>1</td>\n",
       "      <td>0</td>\n",
       "      <td>195</td>\n",
       "      <td>0</td>\n",
       "    </tr>\n",
       "    <tr>\n",
       "      <th>296</th>\n",
       "      <td>62.0</td>\n",
       "      <td>0</td>\n",
       "      <td>231</td>\n",
       "      <td>0</td>\n",
       "      <td>25</td>\n",
       "      <td>1</td>\n",
       "      <td>253000.0</td>\n",
       "      <td>0.9</td>\n",
       "      <td>140</td>\n",
       "      <td>1</td>\n",
       "      <td>1</td>\n",
       "      <td>10</td>\n",
       "      <td>1</td>\n",
       "    </tr>\n",
       "    <tr>\n",
       "      <th>297</th>\n",
       "      <td>60.0</td>\n",
       "      <td>1</td>\n",
       "      <td>315</td>\n",
       "      <td>1</td>\n",
       "      <td>60</td>\n",
       "      <td>0</td>\n",
       "      <td>454000.0</td>\n",
       "      <td>1.1</td>\n",
       "      <td>131</td>\n",
       "      <td>1</td>\n",
       "      <td>1</td>\n",
       "      <td>10</td>\n",
       "      <td>1</td>\n",
       "    </tr>\n",
       "    <tr>\n",
       "      <th>298</th>\n",
       "      <td>60.0</td>\n",
       "      <td>0</td>\n",
       "      <td>582</td>\n",
       "      <td>0</td>\n",
       "      <td>40</td>\n",
       "      <td>0</td>\n",
       "      <td>217000.0</td>\n",
       "      <td>3.7</td>\n",
       "      <td>134</td>\n",
       "      <td>1</td>\n",
       "      <td>0</td>\n",
       "      <td>96</td>\n",
       "      <td>1</td>\n",
       "    </tr>\n",
       "  </tbody>\n",
       "</table>\n",
       "<p>299 rows × 13 columns</p>\n",
       "</div>"
      ],
      "text/plain": [
       "      age  anaemia  creatinine_phosphokinase  diabetes  ejection_fraction  \\\n",
       "0    79.0        1                        55         0                 50   \n",
       "1    70.0        1                        59         0                 60   \n",
       "2    60.0        0                      2261         0                 35   \n",
       "3    55.0        0                        47         0                 35   \n",
       "4    43.0        1                       358         0                 50   \n",
       "..    ...      ...                       ...       ...                ...   \n",
       "294  48.0        1                       131         1                 30   \n",
       "295  73.0        0                       582         0                 35   \n",
       "296  62.0        0                       231         0                 25   \n",
       "297  60.0        1                       315         1                 60   \n",
       "298  60.0        0                       582         0                 40   \n",
       "\n",
       "     high_blood_pressure  platelets  serum_creatinine  serum_sodium  sex  \\\n",
       "0                      1   172000.0               1.8           133    1   \n",
       "1                      0   255000.0               1.1           136    0   \n",
       "2                      1   228000.0               0.9           136    1   \n",
       "3                      1   173000.0               1.1           137    1   \n",
       "4                      0   237000.0               1.3           135    0   \n",
       "..                   ...        ...               ...           ...  ...   \n",
       "294                    1   244000.0               1.6           130    0   \n",
       "295                    1   203000.0               1.3           134    1   \n",
       "296                    1   253000.0               0.9           140    1   \n",
       "297                    0   454000.0               1.1           131    1   \n",
       "298                    0   217000.0               3.7           134    1   \n",
       "\n",
       "     smoking  time  DEATH_EVENT  \n",
       "0          0    78            0  \n",
       "1          0    85            0  \n",
       "2          0   115            0  \n",
       "3          0    79            0  \n",
       "4          0    97            0  \n",
       "..       ...   ...          ...  \n",
       "294        0   193            1  \n",
       "295        0   195            0  \n",
       "296        1    10            1  \n",
       "297        1    10            1  \n",
       "298        0    96            1  \n",
       "\n",
       "[299 rows x 13 columns]"
      ]
     },
     "execution_count": 2,
     "metadata": {},
     "output_type": "execute_result"
    }
   ],
   "source": [
    "os.chdir('/Users/farah/Documents/INFO/Cours_ET4/MachineLearning/ProjetIA')\n",
    "heartt = pd.read_csv('heart_failure_clinical_records_dataset.csv', sep=',', header=0)\n",
    "heart = heartt.iloc[np.random.permutation(heartt.index)].reset_index(drop=True)\n",
    "heart\n"
   ]
  },
  {
   "cell_type": "code",
   "execution_count": 4,
   "metadata": {},
   "outputs": [
    {
     "data": {
      "text/html": [
       "<div>\n",
       "<style scoped>\n",
       "    .dataframe tbody tr th:only-of-type {\n",
       "        vertical-align: middle;\n",
       "    }\n",
       "\n",
       "    .dataframe tbody tr th {\n",
       "        vertical-align: top;\n",
       "    }\n",
       "\n",
       "    .dataframe thead th {\n",
       "        text-align: right;\n",
       "    }\n",
       "</style>\n",
       "<table border=\"1\" class=\"dataframe\">\n",
       "  <thead>\n",
       "    <tr style=\"text-align: right;\">\n",
       "      <th></th>\n",
       "      <th>age</th>\n",
       "      <th>anaemia</th>\n",
       "      <th>creatinine_phosphokinase</th>\n",
       "      <th>diabetes</th>\n",
       "      <th>ejection_fraction</th>\n",
       "      <th>high_blood_pressure</th>\n",
       "      <th>platelets</th>\n",
       "      <th>serum_creatinine</th>\n",
       "      <th>serum_sodium</th>\n",
       "      <th>sex</th>\n",
       "      <th>smoking</th>\n",
       "      <th>time</th>\n",
       "      <th>DEATH_EVENT</th>\n",
       "    </tr>\n",
       "  </thead>\n",
       "  <tbody>\n",
       "    <tr>\n",
       "      <th>0</th>\n",
       "      <td>75.0</td>\n",
       "      <td>0</td>\n",
       "      <td>582</td>\n",
       "      <td>0</td>\n",
       "      <td>20</td>\n",
       "      <td>1</td>\n",
       "      <td>265000.00</td>\n",
       "      <td>1.9</td>\n",
       "      <td>130</td>\n",
       "      <td>1</td>\n",
       "      <td>0</td>\n",
       "      <td>4</td>\n",
       "      <td>1</td>\n",
       "    </tr>\n",
       "    <tr>\n",
       "      <th>1</th>\n",
       "      <td>55.0</td>\n",
       "      <td>0</td>\n",
       "      <td>7861</td>\n",
       "      <td>0</td>\n",
       "      <td>38</td>\n",
       "      <td>0</td>\n",
       "      <td>263358.03</td>\n",
       "      <td>1.1</td>\n",
       "      <td>136</td>\n",
       "      <td>1</td>\n",
       "      <td>0</td>\n",
       "      <td>6</td>\n",
       "      <td>1</td>\n",
       "    </tr>\n",
       "    <tr>\n",
       "      <th>2</th>\n",
       "      <td>65.0</td>\n",
       "      <td>0</td>\n",
       "      <td>146</td>\n",
       "      <td>0</td>\n",
       "      <td>20</td>\n",
       "      <td>0</td>\n",
       "      <td>162000.00</td>\n",
       "      <td>1.3</td>\n",
       "      <td>129</td>\n",
       "      <td>1</td>\n",
       "      <td>1</td>\n",
       "      <td>7</td>\n",
       "      <td>1</td>\n",
       "    </tr>\n",
       "    <tr>\n",
       "      <th>3</th>\n",
       "      <td>50.0</td>\n",
       "      <td>1</td>\n",
       "      <td>111</td>\n",
       "      <td>0</td>\n",
       "      <td>20</td>\n",
       "      <td>0</td>\n",
       "      <td>210000.00</td>\n",
       "      <td>1.9</td>\n",
       "      <td>137</td>\n",
       "      <td>1</td>\n",
       "      <td>0</td>\n",
       "      <td>7</td>\n",
       "      <td>1</td>\n",
       "    </tr>\n",
       "    <tr>\n",
       "      <th>4</th>\n",
       "      <td>65.0</td>\n",
       "      <td>1</td>\n",
       "      <td>160</td>\n",
       "      <td>1</td>\n",
       "      <td>20</td>\n",
       "      <td>0</td>\n",
       "      <td>327000.00</td>\n",
       "      <td>2.7</td>\n",
       "      <td>116</td>\n",
       "      <td>0</td>\n",
       "      <td>0</td>\n",
       "      <td>8</td>\n",
       "      <td>1</td>\n",
       "    </tr>\n",
       "  </tbody>\n",
       "</table>\n",
       "</div>"
      ],
      "text/plain": [
       "    age  anaemia  creatinine_phosphokinase  diabetes  ejection_fraction  \\\n",
       "0  75.0        0                       582         0                 20   \n",
       "1  55.0        0                      7861         0                 38   \n",
       "2  65.0        0                       146         0                 20   \n",
       "3  50.0        1                       111         0                 20   \n",
       "4  65.0        1                       160         1                 20   \n",
       "\n",
       "   high_blood_pressure  platelets  serum_creatinine  serum_sodium  sex  \\\n",
       "0                    1  265000.00               1.9           130    1   \n",
       "1                    0  263358.03               1.1           136    1   \n",
       "2                    0  162000.00               1.3           129    1   \n",
       "3                    0  210000.00               1.9           137    1   \n",
       "4                    0  327000.00               2.7           116    0   \n",
       "\n",
       "   smoking  time  DEATH_EVENT  \n",
       "0        0     4            1  \n",
       "1        0     6            1  \n",
       "2        1     7            1  \n",
       "3        0     7            1  \n",
       "4        0     8            1  "
      ]
     },
     "execution_count": 4,
     "metadata": {},
     "output_type": "execute_result"
    }
   ],
   "source": [
    "heartt.head()"
   ]
  },
  {
   "cell_type": "code",
   "execution_count": null,
   "metadata": {},
   "outputs": [],
   "source": []
  },
  {
   "cell_type": "raw",
   "metadata": {},
   "source": [
    "Établissement des features (Features = 11) et de la target (\"DEATH_EVENT\")"
   ]
  },
  {
   "cell_type": "code",
   "execution_count": 5,
   "metadata": {},
   "outputs": [],
   "source": [
    "features = ['age', 'anaemia', 'creatinine_phosphokinase', 'diabetes',\n",
    "       'ejection_fraction', 'high_blood_pressure', 'platelets',\n",
    "       'serum_creatinine', 'serum_sodium', 'sex', 'smoking', 'time']\n",
    "\n",
    "features2 = ['age', 'creatinine_phosphokinase',\n",
    "       'ejection_fraction', 'platelets',\n",
    "       'serum_creatinine', 'serum_sodium', 'time']\n",
    "\n",
    "target = ['DEATH_EVENT']"
   ]
  },
  {
   "cell_type": "code",
   "execution_count": 5,
   "metadata": {},
   "outputs": [],
   "source": [
    "#iris_features = ['age', 'anaemia', 'creatinine_phosphokinase', 'diabetes','ejection_fraction', 'high_blood_pressure', 'platelets','serum_creatinine', 'serum_sodium', 'sex', 'smoking', 'time']\n",
    "                 \n",
    "# Extract features\n",
    "#A = heart.loc[:, iris_features].values"
   ]
  },
  {
   "cell_type": "code",
   "execution_count": 6,
   "metadata": {},
   "outputs": [
    {
     "data": {
      "text/plain": [
       "['DEATH_EVENT']"
      ]
     },
     "execution_count": 6,
     "metadata": {},
     "output_type": "execute_result"
    }
   ],
   "source": [
    "target"
   ]
  },
  {
   "cell_type": "markdown",
   "metadata": {},
   "source": [
    "Etablissement des matrices"
   ]
  },
  {
   "cell_type": "code",
   "execution_count": 7,
   "metadata": {},
   "outputs": [
    {
     "name": "stdout",
     "output_type": "stream",
     "text": [
      "Le X est de dimension (12,)\n",
      "Le Y est de dimension (1,)\n"
     ]
    }
   ],
   "source": [
    "X = np.asarray(features)\n",
    "Y = np.asarray(target)\n",
    "print(\"Le X est de dimension\" , X.shape )\n",
    "print(\"Le Y est de dimension\" , Y.shape )"
   ]
  },
  {
   "cell_type": "code",
   "execution_count": 8,
   "metadata": {},
   "outputs": [
    {
     "data": {
      "text/plain": [
       "(299, 7)"
      ]
     },
     "execution_count": 8,
     "metadata": {},
     "output_type": "execute_result"
    }
   ],
   "source": [
    "A = heart.loc[:, features].values\n",
    "A.shape\n",
    "A2 = heart.loc[:, features2].values\n",
    "A2.shape"
   ]
  },
  {
   "cell_type": "code",
   "execution_count": 9,
   "metadata": {},
   "outputs": [],
   "source": [
    "B = heart.loc[:, target].values"
   ]
  },
  {
   "cell_type": "code",
   "execution_count": 10,
   "metadata": {},
   "outputs": [
    {
     "data": {
      "text/plain": [
       "((299, 1), (299, 12))"
      ]
     },
     "execution_count": 10,
     "metadata": {},
     "output_type": "execute_result"
    }
   ],
   "source": [
    "n =  X.shape[0]\n",
    "B.shape, A.shape"
   ]
  },
  {
   "cell_type": "code",
   "execution_count": null,
   "metadata": {},
   "outputs": [
    {
     "name": "stderr",
     "output_type": "stream",
     "text": [
      "/Users/farah/opt/anaconda3/lib/python3.8/site-packages/sklearn/utils/validation.py:72: DataConversionWarning: A column-vector y was passed when a 1d array was expected. Please change the shape of y to (n_samples, ), for example using ravel().\n",
      "  return f(**kwargs)\n"
     ]
    }
   ],
   "source": [
    "from sklearn.model_selection import cross_val_score\n",
    "from sklearn import svm\n",
    "clf_cross = svm.SVC(kernel='linear', C=2, random_state=42)\n",
    "scores = cross_val_score(clf_cross, A, B, cv=5)\n",
    "scores"
   ]
  },
  {
   "cell_type": "code",
   "execution_count": 12,
   "metadata": {},
   "outputs": [
    {
     "ename": "NameError",
     "evalue": "name 'X_train' is not defined",
     "output_type": "error",
     "traceback": [
      "\u001b[0;31m---------------------------------------------------------------------------\u001b[0m",
      "\u001b[0;31mNameError\u001b[0m                                 Traceback (most recent call last)",
      "\u001b[0;32m<ipython-input-12-f7f0a20f5364>\u001b[0m in \u001b[0;36m<module>\u001b[0;34m\u001b[0m\n\u001b[0;32m----> 1\u001b[0;31m \u001b[0mclf_test\u001b[0m \u001b[0;34m=\u001b[0m \u001b[0msvm\u001b[0m\u001b[0;34m.\u001b[0m\u001b[0mSVC\u001b[0m\u001b[0;34m(\u001b[0m\u001b[0mkernel\u001b[0m\u001b[0;34m=\u001b[0m\u001b[0;34m'linear'\u001b[0m\u001b[0;34m,\u001b[0m \u001b[0mC\u001b[0m\u001b[0;34m=\u001b[0m\u001b[0;36m2\u001b[0m\u001b[0;34m,\u001b[0m \u001b[0mrandom_state\u001b[0m\u001b[0;34m=\u001b[0m\u001b[0;36m42\u001b[0m\u001b[0;34m)\u001b[0m\u001b[0;34m.\u001b[0m\u001b[0mfit\u001b[0m\u001b[0;34m(\u001b[0m\u001b[0mX_train\u001b[0m\u001b[0;34m,\u001b[0m \u001b[0mY_train\u001b[0m\u001b[0;34m)\u001b[0m\u001b[0;34m\u001b[0m\u001b[0;34m\u001b[0m\u001b[0m\n\u001b[0m\u001b[1;32m      2\u001b[0m \u001b[0mscore_fit\u001b[0m \u001b[0;34m=\u001b[0m \u001b[0mclf_test\u001b[0m\u001b[0;34m.\u001b[0m\u001b[0mscore\u001b[0m\u001b[0;34m(\u001b[0m\u001b[0mX_test\u001b[0m\u001b[0;34m,\u001b[0m \u001b[0mY_test\u001b[0m\u001b[0;34m)\u001b[0m\u001b[0;34m\u001b[0m\u001b[0;34m\u001b[0m\u001b[0m\n",
      "\u001b[0;31mNameError\u001b[0m: name 'X_train' is not defined"
     ]
    }
   ],
   "source": []
  },
  {
   "cell_type": "code",
   "execution_count": 12,
   "metadata": {},
   "outputs": [],
   "source": [
    "from sklearn.model_selection import train_test_split\n",
    "#On prends 70% de trains et 20% de tests\n",
    "X_train, X_test, Y_train, Y_test = train_test_split(A, B, test_size=0.2, random_state=42)\n"
   ]
  },
  {
   "cell_type": "code",
   "execution_count": null,
   "metadata": {},
   "outputs": [],
   "source": [
    "scores.shape"
   ]
  },
  {
   "cell_type": "code",
   "execution_count": 14,
   "metadata": {},
   "outputs": [
    {
     "ename": "NameError",
     "evalue": "name 'scores' is not defined",
     "output_type": "error",
     "traceback": [
      "\u001b[0;31m---------------------------------------------------------------------------\u001b[0m",
      "\u001b[0;31mNameError\u001b[0m                                 Traceback (most recent call last)",
      "\u001b[0;32m<ipython-input-14-a353f0cdad94>\u001b[0m in \u001b[0;36m<module>\u001b[0;34m\u001b[0m\n\u001b[1;32m      1\u001b[0m \u001b[0;31m#clf_test = svm.SVC(kernel='linear', C=2, random_state=42).fit(X_train, Y_train)\u001b[0m\u001b[0;34m\u001b[0m\u001b[0;34m\u001b[0m\u001b[0;34m\u001b[0m\u001b[0m\n\u001b[1;32m      2\u001b[0m \u001b[0;31m#score_fit = clf_test.score(X_test, Y_test)\u001b[0m\u001b[0;34m\u001b[0m\u001b[0;34m\u001b[0m\u001b[0;34m\u001b[0m\u001b[0m\n\u001b[0;32m----> 3\u001b[0;31m \u001b[0mordonnées1\u001b[0m \u001b[0;34m=\u001b[0m \u001b[0mscores\u001b[0m\u001b[0;34m\u001b[0m\u001b[0;34m\u001b[0m\u001b[0m\n\u001b[0m\u001b[1;32m      4\u001b[0m \u001b[0mordonnées2\u001b[0m \u001b[0;34m=\u001b[0m \u001b[0mnp\u001b[0m\u001b[0;34m.\u001b[0m\u001b[0marray\u001b[0m\u001b[0;34m(\u001b[0m\u001b[0mvaleurs_valid_score\u001b[0m\u001b[0;34m)\u001b[0m\u001b[0;34m\u001b[0m\u001b[0;34m\u001b[0m\u001b[0m\n\u001b[1;32m      5\u001b[0m \u001b[0mabscisse\u001b[0m \u001b[0;34m=\u001b[0m \u001b[0mnp\u001b[0m\u001b[0;34m.\u001b[0m\u001b[0marray\u001b[0m\u001b[0;34m(\u001b[0m\u001b[0;34m[\u001b[0m\u001b[0;36m0\u001b[0m\u001b[0;34m,\u001b[0m\u001b[0;36m1\u001b[0m\u001b[0;34m,\u001b[0m\u001b[0;36m2\u001b[0m\u001b[0;34m,\u001b[0m\u001b[0;36m3\u001b[0m\u001b[0;34m,\u001b[0m\u001b[0;36m4\u001b[0m\u001b[0;34m,\u001b[0m\u001b[0;36m5\u001b[0m\u001b[0;34m,\u001b[0m\u001b[0;36m6\u001b[0m\u001b[0;34m,\u001b[0m\u001b[0;36m7\u001b[0m\u001b[0;34m,\u001b[0m\u001b[0;36m9\u001b[0m\u001b[0;34m,\u001b[0m\u001b[0;36m10\u001b[0m\u001b[0;34m,\u001b[0m\u001b[0;36m11\u001b[0m\u001b[0;34m]\u001b[0m\u001b[0;34m)\u001b[0m\u001b[0;34m\u001b[0m\u001b[0;34m\u001b[0m\u001b[0m\n",
      "\u001b[0;31mNameError\u001b[0m: name 'scores' is not defined"
     ]
    }
   ],
   "source": [
    "#clf_test = svm.SVC(kernel='linear', C=2, random_state=42).fit(X_train, Y_train)\n",
    "#score_fit = clf_test.score(X_test, Y_test)\n",
    "ordonnées1 = scores\n",
    "ordonnées2 = np.array(valeurs_valid_score)\n",
    "abscisse = np.array([0,1,2,3,4,5,6,7,9,10,11])\n",
    "plt.plot(abscisse, ordonnées1)\n",
    "plt.plot(abscisse, ordonnées2)\n",
    "plt.show()"
   ]
  },
  {
   "cell_type": "code",
   "execution_count": 11,
   "metadata": {},
   "outputs": [
    {
     "ename": "NameError",
     "evalue": "name 'X_train' is not defined",
     "output_type": "error",
     "traceback": [
      "\u001b[0;31m---------------------------------------------------------------------------\u001b[0m",
      "\u001b[0;31mNameError\u001b[0m                                 Traceback (most recent call last)",
      "\u001b[0;32m<ipython-input-11-3fa4eccf5684>\u001b[0m in \u001b[0;36m<module>\u001b[0;34m\u001b[0m\n\u001b[1;32m      1\u001b[0m \u001b[0;32mfrom\u001b[0m \u001b[0msklearn\u001b[0m \u001b[0;32mimport\u001b[0m \u001b[0mtree\u001b[0m\u001b[0;34m\u001b[0m\u001b[0;34m\u001b[0m\u001b[0m\n\u001b[1;32m      2\u001b[0m \u001b[0mclf_tree\u001b[0m \u001b[0;34m=\u001b[0m \u001b[0mtree\u001b[0m\u001b[0;34m.\u001b[0m\u001b[0mDecisionTreeClassifier\u001b[0m\u001b[0;34m(\u001b[0m\u001b[0;34m)\u001b[0m\u001b[0;34m\u001b[0m\u001b[0;34m\u001b[0m\u001b[0m\n\u001b[0;32m----> 3\u001b[0;31m \u001b[0mclf_tree\u001b[0m\u001b[0;34m.\u001b[0m\u001b[0mfit\u001b[0m\u001b[0;34m(\u001b[0m\u001b[0mX_train\u001b[0m\u001b[0;34m,\u001b[0m \u001b[0mY_train\u001b[0m\u001b[0;34m)\u001b[0m\u001b[0;34m\u001b[0m\u001b[0;34m\u001b[0m\u001b[0m\n\u001b[0m\u001b[1;32m      4\u001b[0m \u001b[0mtree\u001b[0m\u001b[0;34m.\u001b[0m\u001b[0mplot_tree\u001b[0m\u001b[0;34m(\u001b[0m\u001b[0mclf_tree\u001b[0m\u001b[0;34m,\u001b[0m \u001b[0mfilled\u001b[0m\u001b[0;34m=\u001b[0m\u001b[0;32mTrue\u001b[0m\u001b[0;34m)\u001b[0m\u001b[0;34m\u001b[0m\u001b[0;34m\u001b[0m\u001b[0m\n\u001b[1;32m      5\u001b[0m \u001b[0;32mwith\u001b[0m \u001b[0mopen\u001b[0m\u001b[0;34m(\u001b[0m\u001b[0;34m\"heart.dot\"\u001b[0m\u001b[0;34m,\u001b[0m \u001b[0;34m'w'\u001b[0m\u001b[0;34m)\u001b[0m \u001b[0;32mas\u001b[0m \u001b[0mf\u001b[0m\u001b[0;34m:\u001b[0m\u001b[0;34m\u001b[0m\u001b[0;34m\u001b[0m\u001b[0m\n",
      "\u001b[0;31mNameError\u001b[0m: name 'X_train' is not defined"
     ]
    }
   ],
   "source": [
    "from sklearn import tree\n",
    "clf_tree = tree.DecisionTreeClassifier()\n",
    "clf_tree.fit(X_train, Y_train)\n",
    "tree.plot_tree(clf_tree, filled=True)\n",
    "with open(\"heart.dot\", 'w') as f:\n",
    "    f = tree.export_graphviz(clf_tree, out_file=f, filled=True)"
   ]
  },
  {
   "cell_type": "code",
   "execution_count": null,
   "metadata": {},
   "outputs": [],
   "source": [
    "mse = np.sum( (Y_predict-Y_train)**2 ) / 1000.0\n",
    "plt.plot(mse[:,20])\n",
    "\n",
    "plt.title('How to caclulate the mean squared error in  python ?',fontsize=8)\n",
    "\n",
    "plt.xlabel(fontsize=8)\n",
    "plt.ylabel(\"mean square error\",fontsize=8)\n",
    "\n",
    "positions = [i*10 for i in range(10)]\n",
    "labels = [i for i in range(10)]\n",
    "\n",
    "plt.xticks(positions, labels)\n",
    "\n",
    "plt.grid(linestyle='--')\n",
    "\n",
    "#plt.show()"
   ]
  },
  {
   "cell_type": "code",
   "execution_count": null,
   "metadata": {},
   "outputs": [],
   "source": [
    "ordonnées1 = np.array(valeurs_train_score)\n",
    "ordonnées2 = np.array(valeurs_valid_score)\n",
    "abscisse = np.array([0,1,2,3,4,5,6,7,9,10,11])\n",
    "plt.plot(abscisse, ordonnées1)\n",
    "plt.plot(abscisse, ordonnées2)\n",
    "plt.show()"
   ]
  },
  {
   "cell_type": "code",
   "execution_count": null,
   "metadata": {},
   "outputs": [],
   "source": [
    "def load_train_et_val(X_TRAIN,place):\n",
    "    taille = X_TRAIN.shape[0]\n",
    "    decoupe = int(taille/5)\n",
    "    if place == 5 :\n",
    "        X_train = A[: decoupe*4]\n",
    "        y_train = B[: decoupe*4]\n",
    "        X_valid = A[decoupe*4:taille] # X[-Ntest:] est equivalent\n",
    "        y_valid = B[decoupe*4:taille] # X[-Ntest:] est equivalent\n",
    "    if place == 4 :\n",
    "        numeroX1 = A[0: decoupe*3]\n",
    "        numeroX2 = A[decoupe*4:taille]\n",
    "        numeroY1 = B[0: decoupe*3]\n",
    "        numeroY2 = B[decoupe*4:taille] \n",
    "        X_train = np.concatenate((numeroX1,numeroX2))\n",
    "        y_train = np.concatenate((numeroY1,numeroY2))\n",
    "        X_valid = A[decoupe:decoupe*2] # X[-Ntest:] est equivalent\n",
    "        y_valid = B[decoupe:decoupe*2] # X[-Ntest:] est equivalentalid = B[decoupe*3:decoupe*4] # X[-Ntest:] est equivalent\n",
    "    if place == 3 :\n",
    "        numeroX1 = A[0: decoupe*2]\n",
    "        numeroX2 = A[decoupe*3:taille]\n",
    "        numeroY1 = B[0: decoupe*2]\n",
    "        numeroY2 = B[decoupe*3:taille] \n",
    "        X_train = np.concatenate((numeroX1,numeroX2))\n",
    "        y_train = np.concatenate((numeroY1,numeroY2))\n",
    "        X_valid = A[decoupe:decoupe*2] # X[-Ntest:] est equivalent\n",
    "        y_valid = B[decoupe:decoupe*2] # X[-Ntest:] est equivalent\n",
    "    if place == 2 :\n",
    "        numeroX1 = A[0: decoupe]\n",
    "        numeroX2 = A[decoupe*2:taille]\n",
    "        numeroY1 = B[0: decoupe]\n",
    "        numeroY2 = B[decoupe*2:taille] \n",
    "        X_train = np.concatenate((numeroX1,numeroX2))\n",
    "        y_train = np.concatenate((numeroY1,numeroY2))\n",
    "        X_valid = A[decoupe:decoupe*2] # X[-Ntest:] est equivalent\n",
    "        y_valid = B[decoupe:decoupe*2] # X[-Ntest:] est equivalent\n",
    "    if place == 1 :\n",
    "        X_train = A[decoupe*2:taille]\n",
    "        y_train = B[decoupe*2:taille]\n",
    "        X_valid = A[:decoupe] # X[-Ntest:] est equivalent\n",
    "        y_valid = B[:decoupe] # X[-Ntest:] est equivalent\n",
    "    return X_train, y_train, X_valid, y_valid"
   ]
  },
  {
   "cell_type": "code",
   "execution_count": null,
   "metadata": {},
   "outputs": [],
   "source": [
    "from sklearn.model_selection import train_test_split\n",
    "from sklearn.decomposition import PCA\n",
    "from sklearn import svm\n",
    "valeurs_train_score = []\n",
    "valeurs_test_score = []\n",
    "it = 1\n",
    "n = X.shape[0]\n",
    "while it < n :\n",
    "    preProc = sklearn.decomposition.PCA(n_components=it) \n",
    "    preProc.fit(X_train)\n",
    "    X_train_prov = preProc.transform(X_train)\n",
    "    X_test_prov = preProc.transform(X_test)\n",
    "    clf_prov = svm.SVC(kernel='linear', C=2)\n",
    "    clf_prov.fit(X_train_prov, Y_test)\n",
    "    #score_train_prov = clf_prov.score(X_train_prov)\n",
    "    #score_test_prov = clf_prov.score(X_test_prov)\n",
    "   # valeurs_train_score.apprend(score_train_prov)\n",
    "    #valeurs_test_score(score_test_prov)\n",
    "    it = it+1\n",
    "    "
   ]
  },
  {
   "cell_type": "code",
   "execution_count": null,
   "metadata": {},
   "outputs": [],
   "source": []
  },
  {
   "cell_type": "code",
   "execution_count": null,
   "metadata": {},
   "outputs": [],
   "source": [
    "ordonnées1 = np.array(valeurs_train_score)\n",
    "ordonnées2 = np.array(valeurs_test_score)\n",
    "abscisse = np.array([0,1,2,3,4,5,6,7,9,10,11,12])\n",
    "plt.plot(abscisse, ordonnées1)\n",
    "plt.plot(abscisse, ordonnées2)\n",
    "plt.show()"
   ]
  },
  {
   "cell_type": "code",
   "execution_count": null,
   "metadata": {},
   "outputs": [],
   "source": [
    "valeurs_train_score[3]"
   ]
  },
  {
   "cell_type": "markdown",
   "metadata": {},
   "source": [
    "Répartissons nos entrainements et nos tests"
   ]
  },
  {
   "cell_type": "code",
   "execution_count": null,
   "metadata": {},
   "outputs": [],
   "source": [
    "taille_données = A.shape[0]\n",
    "taille_données"
   ]
  },
  {
   "cell_type": "code",
   "execution_count": null,
   "metadata": {},
   "outputs": [],
   "source": [
    "    import seaborn as sns\n",
    "    plt.figure(figsize=(16,8))\n",
    "    #plt.style.use(['seaborn-bright','dark_background'])\n",
    "    #sns.countplot(x = heart[i],data = data, hue = 'class', palette='hsv')\n",
    "    # count plot on single categorical variable\n",
    "    sns.countplot(x = 'serum_creatinine',hue ='DEATH_EVENT', data = heart)\n",
    "    #plt.style.use(['seaborn-bright','dark_background'])\n",
    "    # Show the plot\n",
    "    plt.title(\"Nombre de personne par taux de creatinine\")\n",
    "    plt.show()"
   ]
  },
  {
   "cell_type": "code",
   "execution_count": null,
   "metadata": {},
   "outputs": [],
   "source": [
    "    import seaborn as sns\n",
    "    plt.figure(figsize=(16,8))\n",
    "    plt.style.use(['seaborn-bright','dark_background'])\n",
    "    #sns.countplot(x = heart[i],data = data, hue = 'class', palette='hsv')\n",
    "    # count plot on single categorical variable\n",
    "    sns.countplot(x = 'ejection_fraction',hue ='DEATH_EVENT', data = heart)\n",
    "    #plt.style.use(['seaborn-bright','dark_background'])\n",
    "    # Show the plot\n",
    "    plt.title(\"Nombre de personne par taux d'ejection fraction\")\n",
    "    plt.show()"
   ]
  },
  {
   "cell_type": "code",
   "execution_count": null,
   "metadata": {
    "scrolled": true
   },
   "outputs": [],
   "source": [
    "print(\"Les X_train ont maintenant 209 lignes -->\", X_train.shape)"
   ]
  },
  {
   "cell_type": "markdown",
   "metadata": {},
   "source": [
    "On effectue maintenant une SVM"
   ]
  },
  {
   "cell_type": "code",
   "execution_count": null,
   "metadata": {},
   "outputs": [],
   "source": [
    "from sklearn import svm\n",
    "clf = sklearn.svm.SVC(kernel='linear', C=2)\n",
    "clf.fit(X_train,Y_train)\n",
    "y_predict = clf.predict(X_test)"
   ]
  },
  {
   "cell_type": "code",
   "execution_count": null,
   "metadata": {},
   "outputs": [],
   "source": [
    "from sklearn.metrics import accuracy_score\n",
    "accuracy_score(y_predict, Y_test)"
   ]
  },
  {
   "cell_type": "code",
   "execution_count": null,
   "metadata": {},
   "outputs": [],
   "source": [
    "plt.imshow(confmat) ## imshow plutot que contourf, pour ne pas lisser les valeurs.\n",
    "plt.colorbar() ## pour montrer l'échelle, sur la droite"
   ]
  },
  {
   "cell_type": "code",
   "execution_count": null,
   "metadata": {},
   "outputs": [],
   "source": [
    "confmat = sklearn.metrics.confusion_matrix(y_predict, Y_test)\n",
    "confmat"
   ]
  },
  {
   "cell_type": "code",
   "execution_count": null,
   "metadata": {},
   "outputs": [],
   "source": [
    "print(\"training score:\",clf.score(X_train,Y_train))\n",
    "print(\"test score:\",clf.score(X_test,Y_test))"
   ]
  },
  {
   "cell_type": "code",
   "execution_count": 15,
   "metadata": {},
   "outputs": [],
   "source": [
    "def load_subSets(X, ratio_train, ratio_valid):\n",
    "    ratio_test = 1 - ratio_train - ratio_valid #\n",
    "    assert(ratio_test>0)\n",
    "    Ntot   = X.shape[0]\n",
    "    Ntrain = int(ratio_train*Ntot)\n",
    "    Nvalid = int(ratio_valid*Ntot)\n",
    "    Ntest  = Ntot - Ntrain - Nvalid\n",
    "    X_train = A[0: Ntrain].copy()\n",
    "    y_train = B[0: Ntrain].copy()\n",
    "    X_valid = A[Ntrain:Ntrain+Nvalid].copy() # X[-Ntest:] est equivalent\n",
    "    y_valid = B[Ntrain:Ntrain+Nvalid].copy() # X[-Ntest:] est equivalent\n",
    "    X_test  = A[-Ntest:].copy()\n",
    "    y_test  = B[-Ntest:].copy()\n",
    "    return X_train, y_train, X_valid, y_valid, X_test, y_test"
   ]
  },
  {
   "cell_type": "code",
   "execution_count": 17,
   "metadata": {},
   "outputs": [],
   "source": [
    "ratio_train = 0.6\n",
    "ratio_valid = 0.3"
   ]
  },
  {
   "cell_type": "code",
   "execution_count": null,
   "metadata": {},
   "outputs": [],
   "source": [
    "nComp_range = np.arange(1, A.shape[1])\n",
    "nComp_range"
   ]
  },
  {
   "cell_type": "code",
   "execution_count": 34,
   "metadata": {},
   "outputs": [
    {
     "name": "stdout",
     "output_type": "stream",
     "text": [
      "SVC(C=3, degree=2, kernel='poly')\n",
      "nombre Composants 1    training score: 0.6861924686192469 . test score: 0.65\n",
      "nC 1  :  (239, 1)\n",
      "SVC(C=3, degree=2, kernel='poly')\n",
      "nombre Composants 2    training score: 0.6861924686192469 . test score: 0.65\n",
      "nC 2  :  (239, 2)\n",
      "SVC(C=3, degree=2, kernel='poly')\n",
      "nombre Composants 3    training score: 0.6861924686192469 . test score: 0.65\n",
      "nC 3  :  (239, 3)\n",
      "SVC(C=3, degree=2, kernel='poly')\n",
      "nombre Composants 4    training score: 0.6861924686192469 . test score: 0.65\n",
      "nC 4  :  (239, 4)\n",
      "SVC(C=3, degree=2, kernel='poly')\n",
      "nombre Composants 5    training score: 0.6861924686192469 . test score: 0.65\n",
      "nC 5  :  (239, 5)\n",
      "SVC(C=3, degree=2, kernel='poly')\n",
      "nombre Composants 6    training score: 0.6861924686192469 . test score: 0.65\n",
      "nC 6  :  (239, 6)\n"
     ]
    },
    {
     "name": "stderr",
     "output_type": "stream",
     "text": [
      "/Users/farah/opt/anaconda3/lib/python3.8/site-packages/sklearn/utils/validation.py:72: DataConversionWarning: A column-vector y was passed when a 1d array was expected. Please change the shape of y to (n_samples, ), for example using ravel().\n",
      "  return f(**kwargs)\n",
      "/Users/farah/opt/anaconda3/lib/python3.8/site-packages/sklearn/utils/validation.py:72: DataConversionWarning: A column-vector y was passed when a 1d array was expected. Please change the shape of y to (n_samples, ), for example using ravel().\n",
      "  return f(**kwargs)\n",
      "/Users/farah/opt/anaconda3/lib/python3.8/site-packages/sklearn/utils/validation.py:72: DataConversionWarning: A column-vector y was passed when a 1d array was expected. Please change the shape of y to (n_samples, ), for example using ravel().\n",
      "  return f(**kwargs)\n",
      "/Users/farah/opt/anaconda3/lib/python3.8/site-packages/sklearn/utils/validation.py:72: DataConversionWarning: A column-vector y was passed when a 1d array was expected. Please change the shape of y to (n_samples, ), for example using ravel().\n",
      "  return f(**kwargs)\n",
      "/Users/farah/opt/anaconda3/lib/python3.8/site-packages/sklearn/utils/validation.py:72: DataConversionWarning: A column-vector y was passed when a 1d array was expected. Please change the shape of y to (n_samples, ), for example using ravel().\n",
      "  return f(**kwargs)\n",
      "/Users/farah/opt/anaconda3/lib/python3.8/site-packages/sklearn/utils/validation.py:72: DataConversionWarning: A column-vector y was passed when a 1d array was expected. Please change the shape of y to (n_samples, ), for example using ravel().\n",
      "  return f(**kwargs)\n"
     ]
    }
   ],
   "source": [
    "import sklearn.decomposition\n",
    "import sklearn.svm\n",
    "import sklearn.neighbors\n",
    "import sklearn.datasets\n",
    "\n",
    "from sklearn.model_selection import train_test_split\n",
    "from sklearn.decomposition import PCA\n",
    "\n",
    "## TODO: faire l'apprentissage supervisé des classes ,\n",
    "## a l'aide d'un SVM polynomial de degre 2 (et avec C=1, coef0 = 1)\n",
    "linear_training_score = []\n",
    "linear_valid_score = []\n",
    "#X_train_, y_train_, X_valid_, y_valid_, X_test_, y_test_ = load_subSets(A2,ratio_train, ratio_valid)\n",
    "## TODO: pour differentes valeurs de n_components, realiser une PCA\n",
    "## puis un apprentissssage supervise des classes\n",
    "# nComp_range = \n",
    "# for nC in nComp_range:\n",
    "A /= A.max()\n",
    "nComp_range = np.arange(1, A2.shape[1],1)\n",
    "for nC in nComp_range:\n",
    "    preProc = sklearn.decomposition.PCA(n_components=nC) ## TODO\n",
    "    #print(preProc.n_components)\n",
    "    \n",
    "    preProc.fit(X_train, Y_test)\n",
    "    \n",
    "    ## TODO: transformer les donnees selon cette transformation apprise\n",
    "    #print(X_train_.shape)\n",
    "    X_train_Transformed = preProc.transform(X_train)\n",
    "    #X_valid_Transformed = preProc.transform(X_valid_)\n",
    "    X_test_Transformed = preProc.transform(X_test)\n",
    "    #print(X_train_.shape)\n",
    "    #print(y_train_.shape)\n",
    "    \n",
    "    C_=3\n",
    "    degree_ =2 \n",
    "    kernel_ = 'poly'\n",
    "    clf__ = sklearn.svm.SVC(C=C_, kernel=kernel_, degree=degree_)\n",
    "    print(clf__)\n",
    "    clf__.fit(X_train_Transformed, Y_train)\n",
    "    ## TODO: calculer les scores a l'aide de clf.score()\n",
    "    #print(X_train_Transformed.shape)\n",
    "    trainscore2 = clf__.score(X_train_Transformed, Y_train) # TODO\n",
    "    #validscore2 = clf__.score(X_valid_Transformed, y_valid_)\n",
    "    testscore2 = clf__.score(X_test_Transformed, Y_test)\n",
    "    trainscore2, validscore2\n",
    "    print(\"nombre Composants\", nC , \"   training score:\",trainscore2, \". test score:\", testscore2)\n",
    "    print(\"nC\", nC, \" : \", X_train_Transformed.shape) \n",
    "    #print(\"nC\", nC, \" : \", validscore) \n",
    "    linear_training_score.append(trainscore2)\n",
    "    linear_valid_score.append(validscore2)\n",
    "\n",
    "\n"
   ]
  },
  {
   "cell_type": "code",
   "execution_count": 27,
   "metadata": {},
   "outputs": [
    {
     "data": {
      "text/plain": [
       "12"
      ]
     },
     "execution_count": 27,
     "metadata": {},
     "output_type": "execute_result"
    }
   ],
   "source": [
    "A.shape[1]"
   ]
  },
  {
   "cell_type": "code",
   "execution_count": 28,
   "metadata": {},
   "outputs": [
    {
     "data": {
      "text/plain": [
       "array([ 1,  2,  3,  4,  5,  6,  7,  8,  9, 10, 11])"
      ]
     },
     "execution_count": 28,
     "metadata": {},
     "output_type": "execute_result"
    }
   ],
   "source": [
    "nComp_range = np.arange(1, A.shape[1])\n",
    "nComp_range"
   ]
  },
  {
   "cell_type": "code",
   "execution_count": null,
   "metadata": {},
   "outputs": [],
   "source": []
  },
  {
   "cell_type": "code",
   "execution_count": 22,
   "metadata": {},
   "outputs": [
    {
     "data": {
      "text/plain": [
       "(0.5, 1.0)"
      ]
     },
     "execution_count": 22,
     "metadata": {},
     "output_type": "execute_result"
    },
    {
     "data": {
      "image/png": "[encoded data removed]",
      "text/plain": [
       "<Figure size 432x288 with 1 Axes>"
      ]
     },
     "metadata": {
      "needs_background": "light"
     },
     "output_type": "display_data"
    }
   ],
   "source": [
    "## plot des scores en fonction de l'hyper-param. nc\n",
    "## c'est cadeau (rien à faire ici)\n",
    "plt.figure()\n",
    "plt.plot(nComp_range, linear_training_score, label= \"train score\")\n",
    "plt.plot(nComp_range, linear_valid_score   , label= \"valid score\")\n",
    "plt.xlabel(\"nombre comp\")\n",
    "plt.ylabel(\"scores\")\n",
    "plt.legend()\n",
    "plt.ylim([0.5,1])"
   ]
  },
  {
   "cell_type": "code",
   "execution_count": 23,
   "metadata": {},
   "outputs": [
    {
     "data": {
      "text/plain": [
       "[<matplotlib.lines.Line2D at 0x1253f7250>]"
      ]
     },
     "execution_count": 23,
     "metadata": {},
     "output_type": "execute_result"
    },
    {
     "data": {
      "image/png": "[encoded data removed]",
      "text/plain": [
       "<Figure size 432x288 with 1 Axes>"
      ]
     },
     "metadata": {
      "needs_background": "light"
     },
     "output_type": "display_data"
    }
   ],
   "source": [
    "## plot des scores en fonction de l'hyper-param. nc\n",
    "plt.figure()\n",
    "plt.plot(nComp_range, linear_training_score, label= \"train score\")\n",
    "plt.plot(nComp_range, linear_valid_score   , label= \"valid score\")\n",
    "plt.xlabel(\"nombre comp\")\n",
    "plt.ylabel(\"scores\")\n",
    "plt.legend()\n",
    "plt.ylim([0.5,1])\n",
    "## affichage du meilleur point (ensemble de validation)\n",
    "## ici on fait un choix primaire, sans tenir compte d el'overfitting, etc:\n",
    "## il peut etre affiné a la main\n",
    "bestIndex = np.argmax(linear_valid_score)\n",
    "bestNC = nComp_range[bestIndex]\n",
    "plt.plot(bestNC, linear_valid_score[bestIndex], marker='X', color='green')"
   ]
  },
  {
   "cell_type": "raw",
   "metadata": {},
   "source": [
    "Nous avons donc un score de 0.7777777777777778, ce qui est assez satisfaisant\n",
    "Voyons si nous pouvons obtenir les mêmes scores avec moins de features"
   ]
  },
  {
   "cell_type": "code",
   "execution_count": null,
   "metadata": {},
   "outputs": [],
   "source": [
    "#from sklearn import model_selection\n",
    "#scores_res = model_selection.cross_val_score(clf, A, B, cv=5)"
   ]
  },
  {
   "cell_type": "code",
   "execution_count": 24,
   "metadata": {},
   "outputs": [
    {
     "ename": "NameError",
     "evalue": "name 'clf' is not defined",
     "output_type": "error",
     "traceback": [
      "\u001b[0;31m---------------------------------------------------------------------------\u001b[0m",
      "\u001b[0;31mNameError\u001b[0m                                 Traceback (most recent call last)",
      "\u001b[0;32m<ipython-input-24-d87d5f0b35d4>\u001b[0m in \u001b[0;36m<module>\u001b[0;34m\u001b[0m\n\u001b[0;32m----> 1\u001b[0;31m \u001b[0msuppVect\u001b[0m \u001b[0;34m=\u001b[0m \u001b[0mclf\u001b[0m\u001b[0;34m.\u001b[0m\u001b[0msupport_vectors_\u001b[0m \u001b[0;31m## TODO : recuperer les vecteurs supports, en utilisant l'objet \"clf\"\u001b[0m\u001b[0;34m\u001b[0m\u001b[0;34m\u001b[0m\u001b[0m\n\u001b[0m\u001b[1;32m      2\u001b[0m \u001b[0msize\u001b[0m\u001b[0;34m=\u001b[0m\u001b[0;36m100\u001b[0m\u001b[0;34m\u001b[0m\u001b[0;34m\u001b[0m\u001b[0m\n\u001b[1;32m      3\u001b[0m \u001b[0mplt\u001b[0m\u001b[0;34m.\u001b[0m\u001b[0mscatter\u001b[0m\u001b[0;34m(\u001b[0m\u001b[0msuppVect\u001b[0m\u001b[0;34m[\u001b[0m\u001b[0;34m:\u001b[0m\u001b[0;34m,\u001b[0m\u001b[0;36m0\u001b[0m\u001b[0;34m]\u001b[0m\u001b[0;34m,\u001b[0m\u001b[0msuppVect\u001b[0m\u001b[0;34m[\u001b[0m\u001b[0;34m:\u001b[0m\u001b[0;34m,\u001b[0m\u001b[0;36m1\u001b[0m\u001b[0;34m]\u001b[0m\u001b[0;34m,\u001b[0m \u001b[0mc\u001b[0m \u001b[0;34m=\u001b[0m \u001b[0;34m'green'\u001b[0m\u001b[0;34m,\u001b[0m \u001b[0ms\u001b[0m \u001b[0;34m=\u001b[0m \u001b[0msize\u001b[0m\u001b[0;34m,\u001b[0m \u001b[0mmarker\u001b[0m\u001b[0;34m=\u001b[0m\u001b[0;34m'+'\u001b[0m\u001b[0;34m)\u001b[0m\u001b[0;34m\u001b[0m\u001b[0;34m\u001b[0m\u001b[0m\n\u001b[1;32m      4\u001b[0m \u001b[0;31m## TODO: tracer aussi les points de l'ensemble de validation (en plus petits, ou autres couleur, etc)\u001b[0m\u001b[0;34m\u001b[0m\u001b[0;34m\u001b[0m\u001b[0;34m\u001b[0m\u001b[0m\n",
      "\u001b[0;31mNameError\u001b[0m: name 'clf' is not defined"
     ]
    }
   ],
   "source": [
    "suppVect = clf.support_vectors_ ## TODO : recuperer les vecteurs supports, en utilisant l'objet \"clf\"\n",
    "size=100\n",
    "plt.scatter(suppVect[:,0],suppVect[:,1], c = 'green', s = size, marker='+')\n",
    "## TODO: tracer aussi les points de l'ensemble de validation (en plus petits, ou autres couleur, etc)"
   ]
  },
  {
   "cell_type": "code",
   "execution_count": null,
   "metadata": {},
   "outputs": [],
   "source": [
    "features2 = ['ejection_fraction', 'serum_creatinine']\n",
    "\n",
    "target2 = ['DEATH_EVENT'] "
   ]
  },
  {
   "cell_type": "code",
   "execution_count": null,
   "metadata": {},
   "outputs": [],
   "source": []
  },
  {
   "cell_type": "code",
   "execution_count": null,
   "metadata": {},
   "outputs": [],
   "source": [
    "#Mettre la position\n",
    "x1_train, y1_train, X1_valid, y1_valid = load_train_et_val(X_train,3)"
   ]
  },
  {
   "cell_type": "code",
   "execution_count": null,
   "metadata": {},
   "outputs": [],
   "source": [
    "x1_train.shape, y1_train.shape, X1_valid.shape, y1_valid.shape, "
   ]
  },
  {
   "cell_type": "code",
   "execution_count": null,
   "metadata": {
    "scrolled": true
   },
   "outputs": [],
   "source": [
    "from sklearn import tree\n",
    "\n",
    "clf_train1 = sklearn.svm.SVC(kernel='linear', C=1)\n",
    "clf_train1.fit(x1_train,y1_train)\n",
    "print(clf_train1.score(x1_train,y1_train))\n",
    "\n",
    "clf_train = tree.DecisionTreeClassifier()"
   ]
  },
  {
   "cell_type": "code",
   "execution_count": null,
   "metadata": {},
   "outputs": [],
   "source": [
    "clf_valid1 = sklearn.svm.SVC(kernel='linear', C=1)\n",
    "clf_valid1.fit(X1_valid,y1_valid)\n",
    "print(clf_valid1.score(X1_valid,y1_valid))\n"
   ]
  },
  {
   "cell_type": "code",
   "execution_count": null,
   "metadata": {},
   "outputs": [],
   "source": []
  },
  {
   "cell_type": "code",
   "execution_count": null,
   "metadata": {},
   "outputs": [],
   "source": [
    "it = 1\n",
    "while it < 6 :\n",
    "    x1_train, y1_train, X1_valid, y1_valid = load_train_et_val(X_train,it)\n",
    "    clf_valid1 = sklearn.svm.SVC(kernel='linear', C=1)\n",
    "    clf_valid1.fit(X1_valid,y1_valid)\n",
    "    print(clf_valid1.score(X1_valid,y1_valid))"
   ]
  },
  {
   "cell_type": "code",
   "execution_count": null,
   "metadata": {
    "scrolled": false
   },
   "outputs": [],
   "source": []
  },
  {
   "cell_type": "code",
   "execution_count": null,
   "metadata": {},
   "outputs": [],
   "source": []
  },
  {
   "cell_type": "code",
   "execution_count": null,
   "metadata": {},
   "outputs": [],
   "source": []
  },
  {
   "cell_type": "code",
   "execution_count": null,
   "metadata": {},
   "outputs": [],
   "source": [
    "X2 = heart.loc[:, features2].values\n",
    "Y2 = heart.loc[:, target2].values"
   ]
  },
  {
   "cell_type": "code",
   "execution_count": null,
   "metadata": {},
   "outputs": [],
   "source": [
    "X2.shape, Y2.shape"
   ]
  },
  {
   "cell_type": "code",
   "execution_count": null,
   "metadata": {},
   "outputs": [],
   "source": [
    "X2_train, X2_test, Y2_train, Y2_test = train_test_split(X2, Y2, test_size=0.5, random_state=42)"
   ]
  },
  {
   "cell_type": "code",
   "execution_count": null,
   "metadata": {},
   "outputs": [],
   "source": [
    "clf_2 = sklearn.svm.SVC(kernel='linear', C=1)\n",
    "clf_2.fit(X2_train,Y2_train)"
   ]
  },
  {
   "cell_type": "code",
   "execution_count": null,
   "metadata": {},
   "outputs": [],
   "source": [
    "print(\"training score:\",clf_2.score(X2_train,Y2_train))\n",
    "print(\"test score:\",clf_2.score(X2_test,Y2_test))"
   ]
  },
  {
   "cell_type": "raw",
   "metadata": {},
   "source": [
    "On voit que l'on a pas les mêmes scores"
   ]
  },
  {
   "cell_type": "markdown",
   "metadata": {},
   "source": [
    "Passons à la PCA"
   ]
  },
  {
   "cell_type": "code",
   "execution_count": 25,
   "metadata": {},
   "outputs": [
    {
     "data": {
      "text/plain": [
       "(299, 12)"
      ]
     },
     "execution_count": 25,
     "metadata": {},
     "output_type": "execute_result"
    }
   ],
   "source": [
    "from sklearn.preprocessing import StandardScaler\n",
    "from sklearn.decomposition import PCA\n",
    "df_std = StandardScaler().fit_transform(A)\n",
    "df_std.shape"
   ]
  },
  {
   "cell_type": "code",
   "execution_count": 26,
   "metadata": {},
   "outputs": [
    {
     "name": "stdout",
     "output_type": "stream",
     "text": [
      "12\n"
     ]
    },
    {
     "data": {
      "image/png": "[encoded data removed]",
      "text/plain": [
       "<Figure size 432x288 with 1 Axes>"
      ]
     },
     "metadata": {
      "needs_background": "light"
     },
     "output_type": "display_data"
    }
   ],
   "source": [
    "pca = PCA().fit(df_std)\n",
    "varianceExplained=0.950\n",
    "plt.plot(np.cumsum(pca.explained_variance_ratio_))\n",
    "plt.xlabel(\"No of components\")\n",
    "preProc = sklearn.decomposition.PCA(n_components=varianceExplained) \n",
    "preProc.fit(A)\n",
    "print(preProc.components_.shape[1])\n",
    "plt.ylabel(\"Cumulative explained variance\")\n",
    "plt.show()"
   ]
  },
  {
   "cell_type": "code",
   "execution_count": null,
   "metadata": {},
   "outputs": [],
   "source": [
    "X_train_Transformed = preProc.transform(X_train)\n",
    "X_train_Transf_decompressed = preProc.inverse_transform(X_train_Transformed)\n",
    "diff = X_train_Transf_decompressed - X_train # tableau de taille Nx 64\n",
    "\n",
    "totalMeanSquaredError = np.mean(diff**2)\n",
    "print(\"MSE totale (Mean Squared Error)\", totalMeanSquaredError)"
   ]
  },
  {
   "cell_type": "code",
   "execution_count": null,
   "metadata": {},
   "outputs": [],
   "source": [
    "import sklearn.datasets\n",
    "K,Z= sklearn.datasets.load_digits(n_class=2, return_X_y=True)\n",
    "D = K.shape[1]\n",
    "erreurs = np.zeros(D)\n",
    "for i, nc in enumerate(range(D)): \n",
    "    preProc = sklearn.decomposition.PCA(n_components=12, copy=True)\n",
    "    preProc.fit(X_train) # calcul de la matrice de passage par sklearn\n",
    "    X_train_Transformed = preProc.transform(X_train)\n",
    "    X_train_Transf_decompressed = preProc.inverse_transform(X_train_Transformed)\n",
    "\n",
    "    diff = X_train_Transf_decompressed - X_train # tableau de taille Nx 64\n",
    "    totalMeanSquaredError = np.mean(diff**2)\n",
    "    erreurs[i] = totalMeanSquaredError\n",
    "\n"
   ]
  },
  {
   "cell_type": "code",
   "execution_count": null,
   "metadata": {},
   "outputs": [],
   "source": [
    "plt.plot(np.arange(D), erreurs)\n",
    "plt.xlabel(\"n_comp\")\n",
    "plt.ylabel(\"erreur\")\n",
    "\n"
   ]
  },
  {
   "cell_type": "code",
   "execution_count": null,
   "metadata": {},
   "outputs": [],
   "source": []
  },
  {
   "cell_type": "code",
   "execution_count": null,
   "metadata": {},
   "outputs": [],
   "source": [
    "df_cov_matrix = np.cov(df_std.T)\n",
    "#df_cov_matrix"
   ]
  },
  {
   "cell_type": "code",
   "execution_count": null,
   "metadata": {},
   "outputs": [],
   "source": [
    "#eig_vals, eig_vecs = np.linalg.eig(heart)"
   ]
  },
  {
   "cell_type": "code",
   "execution_count": null,
   "metadata": {},
   "outputs": [],
   "source": [
    "#eig_pairs = [(np.abs(eig_vals[i]), eig_vecs[:,i])\n",
    "\n",
    "#for i in range(len(eig_vals))]\n",
    " #   print(‘Eigenvalues in descending order:’)\n",
    "#for i in eig_pairs:\n",
    " #   print(i[0])"
   ]
  },
  {
   "cell_type": "code",
   "execution_count": null,
   "metadata": {},
   "outputs": [],
   "source": []
  },
  {
   "cell_type": "code",
   "execution_count": null,
   "metadata": {},
   "outputs": [],
   "source": [
    "from sklearn.decomposition import PCA\n",
    "\n",
    "#pca = PCA().fit(df_std)\n",
    "varianceExplained=0.950\n",
    "preProc = sklearn.decomposition.PCA(ncomponents=varianceExplained) \n",
    "preProc.fit(heart)\n",
    "plt.plot(np.cumsum(pca.explained_variance_ratio_))\n",
    "plt.xlabel(\"No of components\")\n",
    "#plt.ylabel(‘Cumulative explained variance’)\n",
    "plt.show()"
   ]
  },
  {
   "cell_type": "code",
   "execution_count": null,
   "metadata": {
    "scrolled": true
   },
   "outputs": [],
   "source": [
    "from sklearn import preprocessing\n",
    "std_scale = preprocessing.StandardScaler().fit(X_train)\n",
    "\n",
    "X_train_std = std_scale.transform(X_train)\n",
    "X_test_std = std_scale.transform(X_test)\n",
    "\n",
    "from sklearn import svm\n",
    "classifier = svm.SVC(kernel='linear', gamma=0.01)\n",
    "\n",
    "# Entraîner la SVM sur le jeu d'entraînement\n",
    "classifier.fit(X_train_std, Y_train)\n",
    "\n",
    "Y_test_pred = classifier.decision_function(X_test_std)\n",
    "\n",
    "# construire la courbe ROC\n",
    "from sklearn import metrics\n",
    "fpr, tpr, thr = metrics.roc_curve(Y_test, Y_test_pred)\n",
    "\n",
    "# calculer l'aire sous la courbe ROC\n",
    "auc = metrics.auc(fpr, tpr)\n",
    "\n",
    "# créer une figure\n",
    "from matplotlib import pyplot as plt\n",
    "fig = plt.figure(figsize=(6, 6))\n",
    "\n",
    "# afficher la courbe ROC\n",
    "plt.plot(fpr, tpr, '-', lw=2, label='gamma=0.01, AUC=%.2f' % auc)\n",
    "\n",
    "# donner un titre aux axes et au graphique\n",
    "plt.xlabel('False Positive Rate', fontsize=16)\n",
    "plt.ylabel('True Positive Rate', fontsize=16)\n",
    "plt.title('SVM ROC Curve', fontsize=16)\n",
    "\n",
    "# afficher la légende\n",
    "plt.legend(loc=\"lower right\", fontsize=14)\n",
    "\n",
    "# afficher l'image\n",
    "plt.show()"
   ]
  },
  {
   "cell_type": "code",
   "execution_count": null,
   "metadata": {},
   "outputs": [],
   "source": [
    "from sklearn import preprocessing\n",
    "std_scale = preprocessing.StandardScaler().fit(X_train)\n",
    "\n",
    "X_train_std = std_scale.transform(X_train)\n",
    "X_test_std = std_scale.transform(X_test)\n",
    "\n",
    "from sklearn import svm\n",
    "classifier = svm.SVC(kernel='linear', gamma=0.01)\n",
    "\n",
    "# Entraîner la SVM sur le jeu d'entraînement\n",
    "classifier.fit(X_train_std, Y_train)\n",
    "\n",
    "y_test_pred = classifier.decision_function(X_test_std)\n",
    "\n",
    "# construire la courbe ROC\n",
    "from sklearn import metrics\n",
    "fpr, tpr, thr = metrics.roc_curve(Y_test, Y_test_pred)\n",
    "\n",
    "# calculer l'aire sous la courbe ROC\n",
    "auc = metrics.auc(fpr, tpr)\n",
    "\n",
    "# créer une figure\n",
    "from matplotlib import pyplot as plt\n",
    "fig = plt.figure(figsize=(6, 6))\n",
    "\n",
    "# afficher la courbe ROC\n",
    "plt.plot(fpr, tpr, '-', lw=2, label='gamma=0.01, AUC=%.2f' % auc)\n",
    "\n",
    "# donner un titre aux axes et au graphique\n",
    "plt.xlabel('False Positive Rate', fontsize=16)\n",
    "plt.ylabel('True Positive Rate', fontsize=16)\n",
    "plt.title('SVM ROC Curve', fontsize=16)\n",
    "\n",
    "# afficher la légende\n",
    "plt.legend(loc=\"lower right\", fontsize=14)\n",
    "\n",
    "# afficher l'image\n",
    "plt.show()"
   ]
  },
  {
   "cell_type": "code",
   "execution_count": null,
   "metadata": {},
   "outputs": [],
   "source": [
    "dataframe = heart[features]\n",
    "Pos = np.where(B==1, 0, 1)"
   ]
  },
  {
   "cell_type": "code",
   "execution_count": null,
   "metadata": {},
   "outputs": [],
   "source": [
    "df_pos = heart[heart.DEATH_EVENT==1]\n",
    "df_neg = heart[heart.DEATH_EVENT==0]\n",
    "\n",
    "features_pos = df_pos[['age', 'anaemia', 'creatinine_phosphokinase', 'diabetes',\n",
    "       'ejection_fraction', 'high_blood_pressure', 'platelets',\n",
    "       'serum_creatinine', 'serum_sodium', 'sex', 'smoking', 'time']]\n",
    "\n",
    "reste_pos = df_pos[['DEATH_EVENT']]\n",
    "\n",
    "x_pos = np.asarray(features_pos)\n",
    "\n",
    "Y_pos = np.asarray(reste_pos)"
   ]
  },
  {
   "cell_type": "code",
   "execution_count": null,
   "metadata": {},
   "outputs": [],
   "source": [
    "from sklearn.model_selection import train_test_split\n",
    "X_train_pos, X_test_pos, Y_train_pos, Y_test_pos = train_test_split(x_pos, Y_pos, test_size=0.2, random_state = 4)"
   ]
  },
  {
   "cell_type": "code",
   "execution_count": null,
   "metadata": {},
   "outputs": [],
   "source": [
    "X_train_pos.shape, Y_train_pos.shape"
   ]
  },
  {
   "cell_type": "code",
   "execution_count": null,
   "metadata": {},
   "outputs": [],
   "source": [
    "fpr.shape"
   ]
  },
  {
   "cell_type": "code",
   "execution_count": null,
   "metadata": {},
   "outputs": [],
   "source": [
    "y_predict"
   ]
  },
  {
   "cell_type": "code",
   "execution_count": null,
   "metadata": {},
   "outputs": [],
   "source": [
    "Y_test"
   ]
  },
  {
   "cell_type": "code",
   "execution_count": null,
   "metadata": {},
   "outputs": [],
   "source": []
  },
  {
   "cell_type": "code",
   "execution_count": null,
   "metadata": {},
   "outputs": [],
   "source": []
  },
  {
   "cell_type": "code",
   "execution_count": null,
   "metadata": {},
   "outputs": [],
   "source": []
  },
  {
   "cell_type": "code",
   "execution_count": null,
   "metadata": {},
   "outputs": [],
   "source": [
    "i = 0\n",
    "nombre_FP = 0\n",
    "nombre_FN = 0\n",
    "\n",
    "while i < y_predict.shape[0]:\n",
    "    i = i+1\n",
    "    if(y_predict[i-1]!=Y_test[i-1] & Y_test[i-1]==1) :\n",
    "        nombre_FN = nombre_FN + 1\n",
    "    if(y_predict[i-1]!=Y_test[i-1] & Y_test[i-1]==0) :\n",
    "        nombre_FP = nombre_FP + 1"
   ]
  },
  {
   "cell_type": "code",
   "execution_count": null,
   "metadata": {},
   "outputs": [],
   "source": [
    "print(nombre_FP)\n",
    "print(nombre_FN)"
   ]
  },
  {
   "cell_type": "code",
   "execution_count": null,
   "metadata": {},
   "outputs": [],
   "source": [
    "X.shape[0]"
   ]
  },
  {
   "cell_type": "code",
   "execution_count": null,
   "metadata": {},
   "outputs": [],
   "source": [
    "valeurs_train_score = []\n",
    "valeurs_valid_score = []\n",
    "it = 0\n",
    "while it < X.shape[0]:\n",
    "    A_prov = A[:,:it]\n",
    "    B_prob = B[:,:it]\n",
    "    X_train_prov, X_test_prov, Y_train_prov, Y_test_prov = train_test_split(A_prov, B_prov, test_size=0.2, random_state=42)\n",
    "    x1_train_prov_bis, y1_train_prov_bis, X1_valid_prov, y1_valid_prov = load_train_et_val(X_train_prov,1)\n",
    "    clf_ = sklearn.svm.SVC(kernel='linear', C=2)\n",
    "    clf_.fit(X_train,Y_train)\n",
    "    valeurs_train_score.append(x1_train_prov_bis)\n",
    "    valeurs_valid_score.append(X1_valid_prov)\n",
    "    it = it+1\n"
   ]
  },
  {
   "cell_type": "code",
   "execution_count": null,
   "metadata": {},
   "outputs": [],
   "source": [
    "ordonnées1 = np.array(valeurs_train_score)\n",
    "ordonnées2 = np.array(valeurs_valid_score)\n",
    "abscisse = np.array([0,1,2,3,4,5,6,7,9,10,11])\n",
    "plt.plot(abscisse, ordonnées1)\n",
    "plt.plot(abscisse, ordonnées2)\n",
    "plt.show()"
   ]
  },
  {
   "cell_type": "code",
   "execution_count": null,
   "metadata": {},
   "outputs": [],
   "source": []
  },
  {
   "cell_type": "code",
   "execution_count": 19,
   "metadata": {},
   "outputs": [],
   "source": [
    "from sklearn.preprocessing import StandardScaler\n",
    "from sklearn.decomposition import PCA\n",
    "x = StandardScaler().fit_transform(heart)\n",
    "pca = PCA(n_components=2)\n",
    "principalComponents = pca.fit_transform(x)"
   ]
  },
  {
   "cell_type": "code",
   "execution_count": 20,
   "metadata": {},
   "outputs": [],
   "source": [
    "principalDf = pd.DataFrame(data = principalComponents\n",
    "             , columns = ['principal component 1', 'principal component 2'])"
   ]
  },
  {
   "cell_type": "code",
   "execution_count": 21,
   "metadata": {},
   "outputs": [
    {
     "data": {
      "text/html": [
       "<div>\n",
       "<style scoped>\n",
       "    .dataframe tbody tr th:only-of-type {\n",
       "        vertical-align: middle;\n",
       "    }\n",
       "\n",
       "    .dataframe tbody tr th {\n",
       "        vertical-align: top;\n",
       "    }\n",
       "\n",
       "    .dataframe thead th {\n",
       "        text-align: right;\n",
       "    }\n",
       "</style>\n",
       "<table border=\"1\" class=\"dataframe\">\n",
       "  <thead>\n",
       "    <tr style=\"text-align: right;\">\n",
       "      <th></th>\n",
       "      <th>principal component 1</th>\n",
       "      <th>principal component 2</th>\n",
       "    </tr>\n",
       "  </thead>\n",
       "  <tbody>\n",
       "    <tr>\n",
       "      <th>0</th>\n",
       "      <td>-0.416105</td>\n",
       "      <td>-0.868054</td>\n",
       "    </tr>\n",
       "    <tr>\n",
       "      <th>1</th>\n",
       "      <td>0.601088</td>\n",
       "      <td>-0.869609</td>\n",
       "    </tr>\n",
       "    <tr>\n",
       "      <th>2</th>\n",
       "      <td>-0.590687</td>\n",
       "      <td>0.588860</td>\n",
       "    </tr>\n",
       "    <tr>\n",
       "      <th>3</th>\n",
       "      <td>-0.244413</td>\n",
       "      <td>-1.341698</td>\n",
       "    </tr>\n",
       "    <tr>\n",
       "      <th>4</th>\n",
       "      <td>0.463401</td>\n",
       "      <td>-0.010376</td>\n",
       "    </tr>\n",
       "    <tr>\n",
       "      <th>...</th>\n",
       "      <td>...</td>\n",
       "      <td>...</td>\n",
       "    </tr>\n",
       "    <tr>\n",
       "      <th>294</th>\n",
       "      <td>-0.600409</td>\n",
       "      <td>-1.355311</td>\n",
       "    </tr>\n",
       "    <tr>\n",
       "      <th>295</th>\n",
       "      <td>5.579887</td>\n",
       "      <td>0.219093</td>\n",
       "    </tr>\n",
       "    <tr>\n",
       "      <th>296</th>\n",
       "      <td>-1.744656</td>\n",
       "      <td>0.433747</td>\n",
       "    </tr>\n",
       "    <tr>\n",
       "      <th>297</th>\n",
       "      <td>-0.935139</td>\n",
       "      <td>1.281148</td>\n",
       "    </tr>\n",
       "    <tr>\n",
       "      <th>298</th>\n",
       "      <td>-0.579414</td>\n",
       "      <td>2.131640</td>\n",
       "    </tr>\n",
       "  </tbody>\n",
       "</table>\n",
       "<p>299 rows × 2 columns</p>\n",
       "</div>"
      ],
      "text/plain": [
       "     principal component 1  principal component 2\n",
       "0                -0.416105              -0.868054\n",
       "1                 0.601088              -0.869609\n",
       "2                -0.590687               0.588860\n",
       "3                -0.244413              -1.341698\n",
       "4                 0.463401              -0.010376\n",
       "..                     ...                    ...\n",
       "294              -0.600409              -1.355311\n",
       "295               5.579887               0.219093\n",
       "296              -1.744656               0.433747\n",
       "297              -0.935139               1.281148\n",
       "298              -0.579414               2.131640\n",
       "\n",
       "[299 rows x 2 columns]"
      ]
     },
     "execution_count": 21,
     "metadata": {},
     "output_type": "execute_result"
    }
   ],
   "source": [
    "principalDf"
   ]
  },
  {
   "cell_type": "code",
   "execution_count": null,
   "metadata": {},
   "outputs": [],
   "source": []
  },
  {
   "cell_type": "code",
   "execution_count": null,
   "metadata": {},
   "outputs": [],
   "source": []
  }
 ],
 "metadata": {
  "kernelspec": {
   "display_name": "Python 3",
   "language": "python",
   "name": "python3"
  },
  "language_info": {
   "codemirror_mode": {
    "name": "ipython",
    "version": 3
   },
   "file_extension": ".py",
   "mimetype": "text/x-python",
   "name": "python",
   "nbconvert_exporter": "python",
   "pygments_lexer": "ipython3",
   "version": "3.8.5"
  }
 },
 "nbformat": 4,
 "nbformat_minor": 4
}
